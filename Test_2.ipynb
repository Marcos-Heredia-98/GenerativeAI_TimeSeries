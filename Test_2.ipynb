{
 "cells": [
  {
   "cell_type": "code",
   "execution_count": 1,
   "metadata": {},
   "outputs": [
    {
     "name": "stderr",
     "output_type": "stream",
     "text": [
      "/Library/Frameworks/Python.framework/Versions/3.11/lib/python3.11/site-packages/statsforecast/core.py:21: TqdmWarning: IProgress not found. Please update jupyter and ipywidgets. See https://ipywidgets.readthedocs.io/en/stable/user_install.html\n",
      "  from tqdm.autonotebook import tqdm\n",
      "/Library/Frameworks/Python.framework/Versions/3.11/lib/python3.11/site-packages/statsforecast/utils.py:231: FutureWarning: 'M' is deprecated and will be removed in a future version, please use 'ME' instead.\n",
      "  \"ds\": pd.date_range(start=\"1949-01-01\", periods=len(AirPassengers), freq=\"M\"),\n"
     ]
    }
   ],
   "source": [
    "import pandas as pd\n",
    "import numpy as np\n",
    "import matplotlib.pyplot as plt\n",
    "from statsmodels.graphics.tsaplots import plot_acf, plot_pacf\n",
    "from statsmodels.tsa.seasonal import seasonal_decompose\n",
    "from statsforecast import StatsForecast\n",
    "from statsforecast.models import AutoARIMA\n",
    "import seaborn as sns\n",
    "from scipy import stats\n",
    "import warnings"
   ]
  },
  {
   "cell_type": "code",
   "execution_count": null,
   "metadata": {},
   "outputs": [],
   "source": [
    "warnings.filterwarnings(\"ignore\")"
   ]
  },
  {
   "cell_type": "code",
   "execution_count": 2,
   "metadata": {},
   "outputs": [],
   "source": [
    "df = pd.read_csv(\"/Users/marcosherediapimienta/Library/Mobile Documents/com~apple~CloudDocs/Documents/Máster de Matemàtiques per els Instruments Financers/TFM/Time_Series/archive/Top10-2021-2024-1d.csv\")\n",
    "\n",
    "df_selected = df[['Timestamp', 'BTCUSDT']]\n",
    "df_selected = df_selected.rename(columns={'Timestamp':'ds', 'BTCUSDT': 'y'})\n",
    "df_selected = df_selected.dropna()\n",
    "\n",
    "df_selected[\"unique_id\"] = \"1\"\n",
    "df_selected.columns = [\"ds\", \"y\", \"unique_id\"]\n",
    "\n",
    "df_selected[\"ds\"] = pd.to_datetime(df_selected[\"ds\"])"
   ]
  },
  {
   "cell_type": "code",
   "execution_count": null,
   "metadata": {},
   "outputs": [],
   "source": [
    "fig, axs = plt.subplots(nrows=1, ncols=2, figsize=(14, 6))\n",
    "plot_acf(df_selected[\"y\"], lags=60, ax=axs[0], color=\"blue\")\n",
    "axs[0].set_title(\"Autocorrelación\")\n",
    "plot_pacf(df_selected[\"y\"], lags=60, ax=axs[1], color=\"blue\")\n",
    "axs[1].set_title('Autocorrelación parcial')\n",
    "\n",
    "decomposition = seasonal_decompose(df_selected['y'], model='additive', period=12)\n",
    "decomposition.plot()\n",
    "plt.show()"
   ]
  },
  {
   "cell_type": "code",
   "execution_count": null,
   "metadata": {},
   "outputs": [],
   "source": [
    "Y_train_df = df_selected[df_selected.ds <= '2024-05-01']\n",
    "Y_test_df = df_selected[df_selected.ds > '2024-05-01']"
   ]
  },
  {
   "cell_type": "code",
   "execution_count": null,
   "metadata": {},
   "outputs": [],
   "source": [
    "season_length = 12\n",
    "horizon = len(Y_test_df)\n",
    "models = [AutoARIMA(season_length=season_length)]\n",
    "\n",
    "sf = StatsForecast(df=Y_train_df,\n",
    "                   models=models,\n",
    "                   freq='D',\n",
    "                   n_jobs=-1)\n",
    "\n",
    "sf.fit()"
   ]
  }
 ],
 "metadata": {
  "kernelspec": {
   "display_name": "Python 3",
   "language": "python",
   "name": "python3"
  },
  "language_info": {
   "codemirror_mode": {
    "name": "ipython",
    "version": 3
   },
   "file_extension": ".py",
   "mimetype": "text/x-python",
   "name": "python",
   "nbconvert_exporter": "python",
   "pygments_lexer": "ipython3",
   "version": "3.11.8"
  }
 },
 "nbformat": 4,
 "nbformat_minor": 2
}
